{
 "cells": [
  {
   "cell_type": "markdown",
   "metadata": {},
   "source": [
    "# **Presentation**\n",
    "> Self introduction. "
   ]
  },
  {
   "cell_type": "markdown",
   "metadata": {},
   "source": [
    "### Education\n",
    "- Western Institute of Technology and Higher Education (ITESO), Guadalajara, Mexico  Major: Financial Engineering. \n",
    "- Universite de Namur, Namur, Belgium (Exchange program)  Major: Master in Business and Marketing."
   ]
  },
  {
   "cell_type": "markdown",
   "metadata": {},
   "source": [
    "<img style=\"center\" src=\"http://3.bp.blogspot.com/-fj9ivZ7pZ_k/VHi85Z8T0hI/AAAAAAAAAI0/ZVBDJOJgLIo/s1600/logo_iteso11.jpg\" width=\"300px\" height=\"100px\" alt=\"atom\" />"
   ]
  },
  {
   "cell_type": "markdown",
   "metadata": {},
   "source": [
    "---"
   ]
  },
  {
   "cell_type": "markdown",
   "metadata": {},
   "source": [
    "** Work Experience **"
   ]
  },
  {
   "cell_type": "markdown",
   "metadata": {},
   "source": [
    "*1.*<font color = blue>**Waiter at \"Los chilaquiles\"** </font>     \n",
    "- Guadalajara, Jalisco   \n",
    "\n",
    "*2.*<font color = blue>**Accounting at Pollo Pepe** </font>     \n",
    "- Guadalajara, Jalisco   \n",
    "\n",
    "*3.*<font color = blue>**Internship at a Data Mining Company** </font>     \n",
    "- Guadalajara, Jalisco   \n",
    "\n",
    "*4.*<font color = blue>**Salesman at Focus Talent** </font>     \n",
    "- Guadalajara, Jalisco  \n",
    "\n",
    "*5.*<font color = blue>**Portfolio Management \"Eduardo Money Coach\"** </font>     \n",
    "* Guadalajara, Jalisco   \n"
   ]
  },
  {
   "cell_type": "code",
   "execution_count": null,
   "metadata": {
    "collapsed": true
   },
   "outputs": [],
   "source": []
  }
 ],
 "metadata": {
  "kernelspec": {
   "display_name": "Python 3",
   "language": "python",
   "name": "python3"
  },
  "language_info": {
   "codemirror_mode": {
    "name": "ipython",
    "version": 3
   },
   "file_extension": ".py",
   "mimetype": "text/x-python",
   "name": "python",
   "nbconvert_exporter": "python",
   "pygments_lexer": "ipython3",
   "version": "3.6.0"
  }
 },
 "nbformat": 4,
 "nbformat_minor": 2
}
